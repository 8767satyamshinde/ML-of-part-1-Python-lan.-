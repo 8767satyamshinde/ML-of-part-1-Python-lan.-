{
  "cells": [
    {
      "cell_type": "code",
      "execution_count": 12,
      "metadata": {
        "id": "7K5kmLvASF9t"
      },
      "outputs": [],
      "source": [
        "import pandas as pd\n",
        "import numpy as np\n"
      ]
    },
    {
      "cell_type": "code",
      "execution_count": 13,
      "metadata": {
        "id": "gyqMPHkLSKmz"
      },
      "outputs": [],
      "source": [
        "#making a dictionary : dic_1\n",
        "dic_1 = {\n",
        "    \"name\":['satyam', 'shivam', 'puja','shubham','radha'],\n",
        "    \"mark\":[98 , 95 , 90 , 80 , 89] ,\n",
        "    \"Age\": [22 , 18 , 21 , 27 , 32] ,\n",
        "    \"city\":['pune' , 'ahamadnagar' , 'ashti' , 'beed' , 'mumbai' ] ,\n",
        "    \"gender\":['male','male','female','male','female'] ,\n",
        "}"
      ]
    },
    {
      "cell_type": "code",
      "execution_count": 14,
      "metadata": {
        "colab": {
          "base_uri": "https://localhost:8080/",
          "height": 206
        },
        "id": "FxDDpJmISPWJ",
        "outputId": "ae93bcff-d26d-4731-f9a9-e5f287cc89a0"
      },
      "outputs": [
        {
          "data": {
            "text/html": [
              "<div>\n",
              "<style scoped>\n",
              "    .dataframe tbody tr th:only-of-type {\n",
              "        vertical-align: middle;\n",
              "    }\n",
              "\n",
              "    .dataframe tbody tr th {\n",
              "        vertical-align: top;\n",
              "    }\n",
              "\n",
              "    .dataframe thead th {\n",
              "        text-align: right;\n",
              "    }\n",
              "</style>\n",
              "<table border=\"1\" class=\"dataframe\">\n",
              "  <thead>\n",
              "    <tr style=\"text-align: right;\">\n",
              "      <th></th>\n",
              "      <th>name</th>\n",
              "      <th>mark</th>\n",
              "      <th>Age</th>\n",
              "      <th>city</th>\n",
              "      <th>gender</th>\n",
              "    </tr>\n",
              "  </thead>\n",
              "  <tbody>\n",
              "    <tr>\n",
              "      <th>0</th>\n",
              "      <td>satyam</td>\n",
              "      <td>98</td>\n",
              "      <td>22</td>\n",
              "      <td>pune</td>\n",
              "      <td>male</td>\n",
              "    </tr>\n",
              "    <tr>\n",
              "      <th>1</th>\n",
              "      <td>shivam</td>\n",
              "      <td>95</td>\n",
              "      <td>18</td>\n",
              "      <td>ahamadnagar</td>\n",
              "      <td>male</td>\n",
              "    </tr>\n",
              "    <tr>\n",
              "      <th>2</th>\n",
              "      <td>puja</td>\n",
              "      <td>90</td>\n",
              "      <td>21</td>\n",
              "      <td>ashti</td>\n",
              "      <td>female</td>\n",
              "    </tr>\n",
              "    <tr>\n",
              "      <th>3</th>\n",
              "      <td>shubham</td>\n",
              "      <td>80</td>\n",
              "      <td>27</td>\n",
              "      <td>beed</td>\n",
              "      <td>male</td>\n",
              "    </tr>\n",
              "    <tr>\n",
              "      <th>4</th>\n",
              "      <td>radha</td>\n",
              "      <td>89</td>\n",
              "      <td>32</td>\n",
              "      <td>mumbai</td>\n",
              "      <td>female</td>\n",
              "    </tr>\n",
              "  </tbody>\n",
              "</table>\n",
              "</div>"
            ],
            "text/plain": [
              "      name  mark  Age         city  gender\n",
              "0   satyam    98   22         pune    male\n",
              "1   shivam    95   18  ahamadnagar    male\n",
              "2     puja    90   21        ashti  female\n",
              "3  shubham    80   27         beed    male\n",
              "4    radha    89   32       mumbai  female"
            ]
          },
          "execution_count": 14,
          "metadata": {},
          "output_type": "execute_result"
        }
      ],
      "source": [
        "df = pd.DataFrame(dic_1)   # df name ka variable making and to make in a sheet of data\n",
        "df                         # print df of a sheet data\n"
      ]
    },
    {
      "cell_type": "code",
      "execution_count": 15,
      "metadata": {
        "id": "jubSpEXUSQ4D"
      },
      "outputs": [],
      "source": [
        "df.to_csv('first_sheet_pd.csv')"
      ]
    },
    {
      "cell_type": "code",
      "execution_count": 5,
      "metadata": {
        "id": "xelDQkhRST8C"
      },
      "outputs": [],
      "source": [
        "df.to_csv(\"create_no_index_sheet.csv\" , index=False)"
      ]
    },
    {
      "cell_type": "code",
      "execution_count": 16,
      "metadata": {},
      "outputs": [
        {
          "data": {
            "text/html": [
              "<div>\n",
              "<style scoped>\n",
              "    .dataframe tbody tr th:only-of-type {\n",
              "        vertical-align: middle;\n",
              "    }\n",
              "\n",
              "    .dataframe tbody tr th {\n",
              "        vertical-align: top;\n",
              "    }\n",
              "\n",
              "    .dataframe thead th {\n",
              "        text-align: right;\n",
              "    }\n",
              "</style>\n",
              "<table border=\"1\" class=\"dataframe\">\n",
              "  <thead>\n",
              "    <tr style=\"text-align: right;\">\n",
              "      <th></th>\n",
              "      <th>name</th>\n",
              "      <th>mark</th>\n",
              "      <th>Age</th>\n",
              "      <th>city</th>\n",
              "      <th>gender</th>\n",
              "      <th>cource</th>\n",
              "    </tr>\n",
              "  </thead>\n",
              "  <tbody>\n",
              "    <tr>\n",
              "      <th>0</th>\n",
              "      <td>satyam</td>\n",
              "      <td>98</td>\n",
              "      <td>22</td>\n",
              "      <td>pune</td>\n",
              "      <td>male</td>\n",
              "      <td>mtech</td>\n",
              "    </tr>\n",
              "    <tr>\n",
              "      <th>1</th>\n",
              "      <td>shivam</td>\n",
              "      <td>95</td>\n",
              "      <td>18</td>\n",
              "      <td>ahamadnagar</td>\n",
              "      <td>male</td>\n",
              "      <td>12th</td>\n",
              "    </tr>\n",
              "    <tr>\n",
              "      <th>2</th>\n",
              "      <td>puja</td>\n",
              "      <td>90</td>\n",
              "      <td>21</td>\n",
              "      <td>ashti</td>\n",
              "      <td>female</td>\n",
              "      <td>noidea</td>\n",
              "    </tr>\n",
              "    <tr>\n",
              "      <th>3</th>\n",
              "      <td>shubham</td>\n",
              "      <td>80</td>\n",
              "      <td>27</td>\n",
              "      <td>beed</td>\n",
              "      <td>male</td>\n",
              "      <td>bams</td>\n",
              "    </tr>\n",
              "    <tr>\n",
              "      <th>4</th>\n",
              "      <td>radha</td>\n",
              "      <td>89</td>\n",
              "      <td>32</td>\n",
              "      <td>mumbai</td>\n",
              "      <td>female</td>\n",
              "      <td>phd</td>\n",
              "    </tr>\n",
              "  </tbody>\n",
              "</table>\n",
              "</div>"
            ],
            "text/plain": [
              "      name  mark  Age         city  gender  cource\n",
              "0   satyam    98   22         pune    male   mtech\n",
              "1   shivam    95   18  ahamadnagar    male    12th\n",
              "2     puja    90   21        ashti  female  noidea\n",
              "3  shubham    80   27         beed    male    bams\n",
              "4    radha    89   32       mumbai  female     phd"
            ]
          },
          "execution_count": 16,
          "metadata": {},
          "output_type": "execute_result"
        }
      ],
      "source": [
        "sheet = pd.read_csv(\"second_new_sheet.csv\")   \n",
        "sheet                                     "
      ]
    },
    {
      "cell_type": "code",
      "execution_count": 17,
      "metadata": {},
      "outputs": [
        {
          "data": {
            "text/plain": [
              "'shivam'"
            ]
          },
          "execution_count": 17,
          "metadata": {},
          "output_type": "execute_result"
        }
      ],
      "source": [
        "sheet['name'][1]"
      ]
    },
    {
      "cell_type": "code",
      "execution_count": 33,
      "metadata": {},
      "outputs": [
        {
          "name": "stderr",
          "output_type": "stream",
          "text": [
            "C:\\Users\\HP\\AppData\\Local\\Temp\\ipykernel_10728\\2052337378.py:1: FutureWarning: ChainedAssignmentError: behaviour will change in pandas 3.0!\n",
            "You are setting values through chained assignment. Currently this works in certain cases, but when using Copy-on-Write (which will become the default behaviour in pandas 3.0) this will never work to update the original DataFrame or Series, because the intermediate object on which we are setting values will behave as a copy.\n",
            "A typical example is when you are setting values in a column of a DataFrame, like:\n",
            "\n",
            "df[\"col\"][row_indexer] = value\n",
            "\n",
            "Use `df.loc[row_indexer, \"col\"] = values` instead, to perform the assignment in a single step and ensure this keeps updating the original `df`.\n",
            "\n",
            "See the caveats in the documentation: https://pandas.pydata.org/pandas-docs/stable/user_guide/indexing.html#returning-a-view-versus-a-copy\n",
            "\n",
            "  sheet['gender'][1] = 'female'\n",
            "C:\\Users\\HP\\AppData\\Local\\Temp\\ipykernel_10728\\2052337378.py:1: SettingWithCopyWarning: \n",
            "A value is trying to be set on a copy of a slice from a DataFrame\n",
            "\n",
            "See the caveats in the documentation: https://pandas.pydata.org/pandas-docs/stable/user_guide/indexing.html#returning-a-view-versus-a-copy\n",
            "  sheet['gender'][1] = 'female'\n"
          ]
        }
      ],
      "source": [
        "sheet['gender'][1] = 'female'"
      ]
    },
    {
      "cell_type": "code",
      "execution_count": 34,
      "metadata": {},
      "outputs": [
        {
          "ename": "NameError",
          "evalue": "name 'Pratiksha' is not defined",
          "output_type": "error",
          "traceback": [
            "\u001b[1;31m---------------------------------------------------------------------------\u001b[0m",
            "\u001b[1;31mNameError\u001b[0m                                 Traceback (most recent call last)",
            "Cell \u001b[1;32mIn[34], line 1\u001b[0m\n\u001b[1;32m----> 1\u001b[0m sheet[\u001b[38;5;124m'\u001b[39m\u001b[38;5;124mname\u001b[39m\u001b[38;5;124m'\u001b[39m][\u001b[38;5;241m1\u001b[39m] \u001b[38;5;241m=\u001b[39m \u001b[43mPratiksha\u001b[49m\n",
            "\u001b[1;31mNameError\u001b[0m: name 'Pratiksha' is not defined"
          ]
        }
      ],
      "source": [
        "sheet['name'][1] = Pratiksha"
      ]
    },
    {
      "cell_type": "code",
      "execution_count": 35,
      "metadata": {},
      "outputs": [
        {
          "data": {
            "text/html": [
              "<div>\n",
              "<style scoped>\n",
              "    .dataframe tbody tr th:only-of-type {\n",
              "        vertical-align: middle;\n",
              "    }\n",
              "\n",
              "    .dataframe tbody tr th {\n",
              "        vertical-align: top;\n",
              "    }\n",
              "\n",
              "    .dataframe thead th {\n",
              "        text-align: right;\n",
              "    }\n",
              "</style>\n",
              "<table border=\"1\" class=\"dataframe\">\n",
              "  <thead>\n",
              "    <tr style=\"text-align: right;\">\n",
              "      <th></th>\n",
              "      <th>name</th>\n",
              "      <th>mark</th>\n",
              "      <th>Age</th>\n",
              "      <th>city</th>\n",
              "      <th>gender</th>\n",
              "      <th>cource</th>\n",
              "    </tr>\n",
              "  </thead>\n",
              "  <tbody>\n",
              "    <tr>\n",
              "      <th>0</th>\n",
              "      <td>satyam</td>\n",
              "      <td>98</td>\n",
              "      <td>22</td>\n",
              "      <td>pune</td>\n",
              "      <td>male</td>\n",
              "      <td>mtech</td>\n",
              "    </tr>\n",
              "    <tr>\n",
              "      <th>1</th>\n",
              "      <td>pratiksha</td>\n",
              "      <td>95</td>\n",
              "      <td>18</td>\n",
              "      <td>ahamadnagar</td>\n",
              "      <td>female</td>\n",
              "      <td>12th</td>\n",
              "    </tr>\n",
              "    <tr>\n",
              "      <th>2</th>\n",
              "      <td>puja</td>\n",
              "      <td>90</td>\n",
              "      <td>21</td>\n",
              "      <td>ashti</td>\n",
              "      <td>female</td>\n",
              "      <td>noidea</td>\n",
              "    </tr>\n",
              "    <tr>\n",
              "      <th>3</th>\n",
              "      <td>shubham</td>\n",
              "      <td>80</td>\n",
              "      <td>27</td>\n",
              "      <td>beed</td>\n",
              "      <td>male</td>\n",
              "      <td>bams</td>\n",
              "    </tr>\n",
              "    <tr>\n",
              "      <th>4</th>\n",
              "      <td>radha</td>\n",
              "      <td>89</td>\n",
              "      <td>32</td>\n",
              "      <td>mumbai</td>\n",
              "      <td>female</td>\n",
              "      <td>phd</td>\n",
              "    </tr>\n",
              "  </tbody>\n",
              "</table>\n",
              "</div>"
            ],
            "text/plain": [
              "        name  mark  Age         city  gender  cource\n",
              "0     satyam    98   22         pune    male   mtech\n",
              "1  pratiksha    95   18  ahamadnagar  female    12th\n",
              "2       puja    90   21        ashti  female  noidea\n",
              "3    shubham    80   27         beed    male    bams\n",
              "4      radha    89   32       mumbai  female     phd"
            ]
          },
          "execution_count": 35,
          "metadata": {},
          "output_type": "execute_result"
        }
      ],
      "source": [
        "sheet"
      ]
    },
    {
      "cell_type": "code",
      "execution_count": 38,
      "metadata": {},
      "outputs": [],
      "source": [
        "ser = pd.Series(np.random.rand)"
      ]
    },
    {
      "cell_type": "code",
      "execution_count": 39,
      "metadata": {},
      "outputs": [
        {
          "data": {
            "text/plain": [
              "0    <bound method RandomState.rand of RandomState(...\n",
              "dtype: object"
            ]
          },
          "execution_count": 39,
          "metadata": {},
          "output_type": "execute_result"
        }
      ],
      "source": [
        "ser"
      ]
    },
    {
      "cell_type": "code",
      "execution_count": 46,
      "metadata": {},
      "outputs": [
        {
          "data": {
            "text/plain": [
              "0     0.574540\n",
              "1     0.904693\n",
              "2     0.538252\n",
              "3     0.411509\n",
              "4     0.589508\n",
              "5     0.456385\n",
              "6     0.086942\n",
              "7     0.841203\n",
              "8     0.854711\n",
              "9     0.245323\n",
              "10    0.104841\n",
              "11    0.689183\n",
              "12    0.948558\n",
              "13    0.580041\n",
              "14    0.155048\n",
              "15    0.380612\n",
              "16    0.454109\n",
              "17    0.621038\n",
              "18    0.010297\n",
              "19    0.799502\n",
              "20    0.662273\n",
              "21    0.441805\n",
              "22    0.575778\n",
              "23    0.853877\n",
              "24    0.069181\n",
              "25    0.519819\n",
              "26    0.384568\n",
              "27    0.889839\n",
              "28    0.193768\n",
              "29    0.703502\n",
              "dtype: float64"
            ]
          },
          "execution_count": 46,
          "metadata": {},
          "output_type": "execute_result"
        }
      ],
      "source": [
        "ser = pd.Series(np.random.rand(30))\n",
        "ser"
      ]
    },
    {
      "cell_type": "code",
      "execution_count": 42,
      "metadata": {},
      "outputs": [
        {
          "data": {
            "text/plain": [
              "pandas.core.series.Series"
            ]
          },
          "execution_count": 42,
          "metadata": {},
          "output_type": "execute_result"
        }
      ],
      "source": [
        "type(ser)"
      ]
    },
    {
      "cell_type": "code",
      "execution_count": 45,
      "metadata": {},
      "outputs": [
        {
          "data": {
            "text/html": [
              "<div>\n",
              "<style scoped>\n",
              "    .dataframe tbody tr th:only-of-type {\n",
              "        vertical-align: middle;\n",
              "    }\n",
              "\n",
              "    .dataframe tbody tr th {\n",
              "        vertical-align: top;\n",
              "    }\n",
              "\n",
              "    .dataframe thead th {\n",
              "        text-align: right;\n",
              "    }\n",
              "</style>\n",
              "<table border=\"1\" class=\"dataframe\">\n",
              "  <thead>\n",
              "    <tr style=\"text-align: right;\">\n",
              "      <th></th>\n",
              "      <th>0</th>\n",
              "      <th>1</th>\n",
              "      <th>2</th>\n",
              "      <th>3</th>\n",
              "      <th>4</th>\n",
              "      <th>5</th>\n",
              "    </tr>\n",
              "  </thead>\n",
              "  <tbody>\n",
              "    <tr>\n",
              "      <th>0</th>\n",
              "      <td>0.405303</td>\n",
              "      <td>0.792329</td>\n",
              "      <td>0.497487</td>\n",
              "      <td>0.262761</td>\n",
              "      <td>0.158230</td>\n",
              "      <td>0.427269</td>\n",
              "    </tr>\n",
              "    <tr>\n",
              "      <th>1</th>\n",
              "      <td>0.674108</td>\n",
              "      <td>0.358464</td>\n",
              "      <td>0.857354</td>\n",
              "      <td>0.640290</td>\n",
              "      <td>0.395141</td>\n",
              "      <td>0.951875</td>\n",
              "    </tr>\n",
              "    <tr>\n",
              "      <th>2</th>\n",
              "      <td>0.364865</td>\n",
              "      <td>0.972921</td>\n",
              "      <td>0.810319</td>\n",
              "      <td>0.959341</td>\n",
              "      <td>0.594281</td>\n",
              "      <td>0.457285</td>\n",
              "    </tr>\n",
              "    <tr>\n",
              "      <th>3</th>\n",
              "      <td>0.640037</td>\n",
              "      <td>0.387602</td>\n",
              "      <td>0.026064</td>\n",
              "      <td>0.200126</td>\n",
              "      <td>0.196652</td>\n",
              "      <td>0.505512</td>\n",
              "    </tr>\n",
              "    <tr>\n",
              "      <th>4</th>\n",
              "      <td>0.863756</td>\n",
              "      <td>0.705460</td>\n",
              "      <td>0.059057</td>\n",
              "      <td>0.958334</td>\n",
              "      <td>0.940748</td>\n",
              "      <td>0.767915</td>\n",
              "    </tr>\n",
              "    <tr>\n",
              "      <th>...</th>\n",
              "      <td>...</td>\n",
              "      <td>...</td>\n",
              "      <td>...</td>\n",
              "      <td>...</td>\n",
              "      <td>...</td>\n",
              "      <td>...</td>\n",
              "    </tr>\n",
              "    <tr>\n",
              "      <th>328</th>\n",
              "      <td>0.761638</td>\n",
              "      <td>0.420385</td>\n",
              "      <td>0.704594</td>\n",
              "      <td>0.628425</td>\n",
              "      <td>0.275393</td>\n",
              "      <td>0.565512</td>\n",
              "    </tr>\n",
              "    <tr>\n",
              "      <th>329</th>\n",
              "      <td>0.083827</td>\n",
              "      <td>0.523188</td>\n",
              "      <td>0.739614</td>\n",
              "      <td>0.847699</td>\n",
              "      <td>0.292975</td>\n",
              "      <td>0.393766</td>\n",
              "    </tr>\n",
              "    <tr>\n",
              "      <th>330</th>\n",
              "      <td>0.529304</td>\n",
              "      <td>0.451856</td>\n",
              "      <td>0.120278</td>\n",
              "      <td>0.900566</td>\n",
              "      <td>0.699841</td>\n",
              "      <td>0.473394</td>\n",
              "    </tr>\n",
              "    <tr>\n",
              "      <th>331</th>\n",
              "      <td>0.051460</td>\n",
              "      <td>0.618596</td>\n",
              "      <td>0.851544</td>\n",
              "      <td>0.893384</td>\n",
              "      <td>0.597111</td>\n",
              "      <td>0.422386</td>\n",
              "    </tr>\n",
              "    <tr>\n",
              "      <th>332</th>\n",
              "      <td>0.755337</td>\n",
              "      <td>0.295598</td>\n",
              "      <td>0.047914</td>\n",
              "      <td>0.525326</td>\n",
              "      <td>0.322517</td>\n",
              "      <td>0.239672</td>\n",
              "    </tr>\n",
              "  </tbody>\n",
              "</table>\n",
              "<p>333 rows × 6 columns</p>\n",
              "</div>"
            ],
            "text/plain": [
              "            0         1         2         3         4         5\n",
              "0    0.405303  0.792329  0.497487  0.262761  0.158230  0.427269\n",
              "1    0.674108  0.358464  0.857354  0.640290  0.395141  0.951875\n",
              "2    0.364865  0.972921  0.810319  0.959341  0.594281  0.457285\n",
              "3    0.640037  0.387602  0.026064  0.200126  0.196652  0.505512\n",
              "4    0.863756  0.705460  0.059057  0.958334  0.940748  0.767915\n",
              "..        ...       ...       ...       ...       ...       ...\n",
              "328  0.761638  0.420385  0.704594  0.628425  0.275393  0.565512\n",
              "329  0.083827  0.523188  0.739614  0.847699  0.292975  0.393766\n",
              "330  0.529304  0.451856  0.120278  0.900566  0.699841  0.473394\n",
              "331  0.051460  0.618596  0.851544  0.893384  0.597111  0.422386\n",
              "332  0.755337  0.295598  0.047914  0.525326  0.322517  0.239672\n",
              "\n",
              "[333 rows x 6 columns]"
            ]
          },
          "execution_count": 45,
          "metadata": {},
          "output_type": "execute_result"
        }
      ],
      "source": [
        "newdf = pd.DataFrame(np.random.rand(333,6) , index=np.arange(333))\n",
        "newdf"
      ]
    },
    {
      "cell_type": "code",
      "execution_count": 47,
      "metadata": {},
      "outputs": [
        {
          "data": {
            "text/html": [
              "<div>\n",
              "<style scoped>\n",
              "    .dataframe tbody tr th:only-of-type {\n",
              "        vertical-align: middle;\n",
              "    }\n",
              "\n",
              "    .dataframe tbody tr th {\n",
              "        vertical-align: top;\n",
              "    }\n",
              "\n",
              "    .dataframe thead th {\n",
              "        text-align: right;\n",
              "    }\n",
              "</style>\n",
              "<table border=\"1\" class=\"dataframe\">\n",
              "  <thead>\n",
              "    <tr style=\"text-align: right;\">\n",
              "      <th></th>\n",
              "      <th>0</th>\n",
              "      <th>1</th>\n",
              "      <th>2</th>\n",
              "      <th>3</th>\n",
              "      <th>4</th>\n",
              "      <th>5</th>\n",
              "    </tr>\n",
              "  </thead>\n",
              "  <tbody>\n",
              "    <tr>\n",
              "      <th>count</th>\n",
              "      <td>333.000000</td>\n",
              "      <td>333.000000</td>\n",
              "      <td>333.000000</td>\n",
              "      <td>333.000000</td>\n",
              "      <td>333.000000</td>\n",
              "      <td>333.000000</td>\n",
              "    </tr>\n",
              "    <tr>\n",
              "      <th>mean</th>\n",
              "      <td>0.513882</td>\n",
              "      <td>0.507192</td>\n",
              "      <td>0.493287</td>\n",
              "      <td>0.475613</td>\n",
              "      <td>0.507341</td>\n",
              "      <td>0.511630</td>\n",
              "    </tr>\n",
              "    <tr>\n",
              "      <th>std</th>\n",
              "      <td>0.280035</td>\n",
              "      <td>0.291250</td>\n",
              "      <td>0.286463</td>\n",
              "      <td>0.279596</td>\n",
              "      <td>0.290273</td>\n",
              "      <td>0.289071</td>\n",
              "    </tr>\n",
              "    <tr>\n",
              "      <th>min</th>\n",
              "      <td>0.003432</td>\n",
              "      <td>0.001844</td>\n",
              "      <td>0.003003</td>\n",
              "      <td>0.002400</td>\n",
              "      <td>0.000385</td>\n",
              "      <td>0.001529</td>\n",
              "    </tr>\n",
              "    <tr>\n",
              "      <th>25%</th>\n",
              "      <td>0.266139</td>\n",
              "      <td>0.255318</td>\n",
              "      <td>0.226498</td>\n",
              "      <td>0.211574</td>\n",
              "      <td>0.275393</td>\n",
              "      <td>0.260139</td>\n",
              "    </tr>\n",
              "    <tr>\n",
              "      <th>50%</th>\n",
              "      <td>0.536201</td>\n",
              "      <td>0.529402</td>\n",
              "      <td>0.498534</td>\n",
              "      <td>0.484407</td>\n",
              "      <td>0.501004</td>\n",
              "      <td>0.528629</td>\n",
              "    </tr>\n",
              "    <tr>\n",
              "      <th>75%</th>\n",
              "      <td>0.756467</td>\n",
              "      <td>0.735329</td>\n",
              "      <td>0.748597</td>\n",
              "      <td>0.707487</td>\n",
              "      <td>0.766478</td>\n",
              "      <td>0.767915</td>\n",
              "    </tr>\n",
              "    <tr>\n",
              "      <th>max</th>\n",
              "      <td>0.998524</td>\n",
              "      <td>0.997450</td>\n",
              "      <td>0.997995</td>\n",
              "      <td>0.997447</td>\n",
              "      <td>0.997628</td>\n",
              "      <td>0.997567</td>\n",
              "    </tr>\n",
              "  </tbody>\n",
              "</table>\n",
              "</div>"
            ],
            "text/plain": [
              "                0           1           2           3           4           5\n",
              "count  333.000000  333.000000  333.000000  333.000000  333.000000  333.000000\n",
              "mean     0.513882    0.507192    0.493287    0.475613    0.507341    0.511630\n",
              "std      0.280035    0.291250    0.286463    0.279596    0.290273    0.289071\n",
              "min      0.003432    0.001844    0.003003    0.002400    0.000385    0.001529\n",
              "25%      0.266139    0.255318    0.226498    0.211574    0.275393    0.260139\n",
              "50%      0.536201    0.529402    0.498534    0.484407    0.501004    0.528629\n",
              "75%      0.756467    0.735329    0.748597    0.707487    0.766478    0.767915\n",
              "max      0.998524    0.997450    0.997995    0.997447    0.997628    0.997567"
            ]
          },
          "execution_count": 47,
          "metadata": {},
          "output_type": "execute_result"
        }
      ],
      "source": [
        "newdf.describe()"
      ]
    },
    {
      "cell_type": "code",
      "execution_count": 50,
      "metadata": {},
      "outputs": [
        {
          "data": {
            "text/plain": [
              "0    float64\n",
              "1    float64\n",
              "2    float64\n",
              "3    float64\n",
              "4    float64\n",
              "5    float64\n",
              "dtype: object"
            ]
          },
          "execution_count": 50,
          "metadata": {},
          "output_type": "execute_result"
        }
      ],
      "source": [
        "newdf.dtypes"
      ]
    },
    {
      "cell_type": "code",
      "execution_count": 51,
      "metadata": {},
      "outputs": [
        {
          "data": {
            "text/plain": [
              "RangeIndex(start=0, stop=5, step=1)"
            ]
          },
          "execution_count": 51,
          "metadata": {},
          "output_type": "execute_result"
        }
      ],
      "source": [
        "df.index"
      ]
    },
    {
      "cell_type": "code",
      "execution_count": 52,
      "metadata": {},
      "outputs": [
        {
          "data": {
            "text/plain": [
              "Index([  0,   1,   2,   3,   4,   5,   6,   7,   8,   9,\n",
              "       ...\n",
              "       323, 324, 325, 326, 327, 328, 329, 330, 331, 332],\n",
              "      dtype='int64', length=333)"
            ]
          },
          "execution_count": 52,
          "metadata": {},
          "output_type": "execute_result"
        }
      ],
      "source": [
        "newdf.index"
      ]
    },
    {
      "cell_type": "code",
      "execution_count": null,
      "metadata": {},
      "outputs": [],
      "source": []
    }
  ],
  "metadata": {
    "colab": {
      "provenance": []
    },
    "kernelspec": {
      "display_name": "Python 3",
      "name": "python3"
    },
    "language_info": {
      "codemirror_mode": {
        "name": "ipython",
        "version": 3
      },
      "file_extension": ".py",
      "mimetype": "text/x-python",
      "name": "python",
      "nbconvert_exporter": "python",
      "pygments_lexer": "ipython3",
      "version": "3.12.5"
    }
  },
  "nbformat": 4,
  "nbformat_minor": 0
}
