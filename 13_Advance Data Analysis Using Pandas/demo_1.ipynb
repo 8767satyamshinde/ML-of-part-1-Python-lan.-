{
 "cells": [
  {
   "cell_type": "markdown",
   "metadata": {},
   "source": [
    "\n",
    "\n",
    "# Chapter 13: Advanced Data Analysis using pandas\n",
    "\n",
    "In this notebook, we will cover advanced topics for data analysis using pandas, including:\n",
    "1. Joining DataFrames\n",
    "2. Concatenation of Tables\n",
    "3. Aggregation Functions on DataFrames\n",
    "4. SQL Equivalent Statements in pandas\n",
    "5. Using Regular Expressions\n",
    "\n"
   ]
  },
  {
   "cell_type": "markdown",
   "metadata": {},
   "source": [
    "\n",
    "### 1. Joining DataFrames\n",
    "Joining DataFrames in pandas allows you to combine data from different sources based on common keys. There are several types of joins available:\n"
   ]
  },
  {
   "cell_type": "code",
   "execution_count": 5,
   "metadata": {},
   "outputs": [],
   "source": [
    "\n",
    "#### Example DataFrames\n",
    "import pandas as pd\n",
    "\n",
    "# DataFrame 1\n",
    "df1 = pd.DataFrame({\n",
    "    'ID': [1, 2, 3, 4],\n",
    "    'Name': ['Alice', 'Bob', 'Charlie', 'David'],\n",
    "    'Age': [25, 30, 35, 40]\n",
    "})\n",
    "\n",
    "# DataFrame 2\n",
    "df2 = pd.DataFrame({\n",
    "    'ID': [3, 4, 5, 6],\n",
    "    'Name': ['Charlie', 'David', 'Eve', 'Frank'],\n",
    "    'Salary': [70000, 80000, 90000, 100000]\n",
    "})\n",
    "\n"
   ]
  },
  {
   "cell_type": "code",
   "execution_count": 6,
   "metadata": {},
   "outputs": [
    {
     "name": "stdout",
     "output_type": "stream",
     "text": [
      "Inner Join:\n",
      "   ID   Name_x  Age   Name_y  Salary\n",
      "0   3  Charlie   35  Charlie   70000\n",
      "1   4    David   40    David   80000\n"
     ]
    }
   ],
   "source": [
    "\n",
    "# Inner Join\n",
    "inner_join = pd.merge(df1, df2, on='ID', how='inner')\n",
    "print(\"Inner Join:\")\n",
    "print(inner_join)\n"
   ]
  },
  {
   "cell_type": "code",
   "execution_count": 7,
   "metadata": {},
   "outputs": [
    {
     "name": "stdout",
     "output_type": "stream",
     "text": [
      "Outer Join:\n",
      "   ID   Name_x   Age   Name_y    Salary\n",
      "0   1    Alice  25.0      NaN       NaN\n",
      "1   2      Bob  30.0      NaN       NaN\n",
      "2   3  Charlie  35.0  Charlie   70000.0\n",
      "3   4    David  40.0    David   80000.0\n",
      "4   5      NaN   NaN      Eve   90000.0\n",
      "5   6      NaN   NaN    Frank  100000.0\n"
     ]
    }
   ],
   "source": [
    "\n",
    "# Outer Join\n",
    "outer_join = pd.merge(df1, df2, on='ID', how='outer')\n",
    "print(\"Outer Join:\")\n",
    "print(outer_join)\n"
   ]
  },
  {
   "cell_type": "code",
   "execution_count": 4,
   "metadata": {},
   "outputs": [
    {
     "name": "stdout",
     "output_type": "stream",
     "text": [
      "Left Join:\n",
      "   ID   Name_x  Age   Name_y   Salary\n",
      "0   1    Alice   25      NaN      NaN\n",
      "1   2      Bob   30      NaN      NaN\n",
      "2   3  Charlie   35  Charlie  70000.0\n",
      "3   4    David   40    David  80000.0\n"
     ]
    }
   ],
   "source": [
    "\n",
    "# Left Join\n",
    "left_join = pd.merge(df1, df2, on='ID', how='left')\n",
    "print(\"Left Join:\")\n",
    "print(left_join)\n"
   ]
  },
  {
   "cell_type": "code",
   "execution_count": 8,
   "metadata": {},
   "outputs": [
    {
     "name": "stdout",
     "output_type": "stream",
     "text": [
      "Right Join:\n",
      "   ID   Name_x   Age   Name_y  Salary\n",
      "0   3  Charlie  35.0  Charlie   70000\n",
      "1   4    David  40.0    David   80000\n",
      "2   5      NaN   NaN      Eve   90000\n",
      "3   6      NaN   NaN    Frank  100000\n"
     ]
    }
   ],
   "source": [
    "\n",
    "# Right Join\n",
    "right_join = pd.merge(df1, df2, on='ID', how='right')\n",
    "print(\"Right Join:\")\n",
    "print(right_join)"
   ]
  },
  {
   "cell_type": "code",
   "execution_count": 16,
   "metadata": {},
   "outputs": [
    {
     "name": "stdout",
     "output_type": "stream",
     "text": [
      "Concatenated along rows:\n",
      "   ID     Name   Age    Salary\n",
      "0   1    Alice  25.0       NaN\n",
      "1   2      Bob  30.0       NaN\n",
      "2   3  Charlie  35.0       NaN\n",
      "3   4    David  40.0       NaN\n",
      "4   3  Charlie   NaN   70000.0\n",
      "5   4    David   NaN   80000.0\n",
      "6   5      Eve   NaN   90000.0\n",
      "7   6    Frank   NaN  100000.0\n"
     ]
    }
   ],
   "source": [
    "# Concatenate along rows\n",
    "concatenated_rows = pd.concat([df1, df2], axis=0, ignore_index=True)\n",
    "print(\"Concatenated along rows:\")\n",
    "print(concatenated_rows)\n"
   ]
  },
  {
   "cell_type": "code",
   "execution_count": 10,
   "metadata": {},
   "outputs": [
    {
     "name": "stdout",
     "output_type": "stream",
     "text": [
      "Concatenated along columns:\n",
      "   ID     Name  Age  ID     Name  Salary\n",
      "0   1    Alice   25   3  Charlie   70000\n",
      "1   2      Bob   30   4    David   80000\n",
      "2   3  Charlie   35   5      Eve   90000\n",
      "3   4    David   40   6    Frank  100000\n"
     ]
    }
   ],
   "source": [
    "# Concatenate along columns\n",
    "concatenated_columns = pd.concat([df1, df2], axis=1)\n",
    "print(\"Concatenated along columns:\")\n",
    "print(concatenated_columns)\n"
   ]
  },
  {
   "cell_type": "code",
   "execution_count": 11,
   "metadata": {},
   "outputs": [
    {
     "name": "stdout",
     "output_type": "stream",
     "text": [
      "Aggregation Functions:\n",
      "   Age          \n",
      "   min max  mean\n",
      "ID              \n",
      "1   25  25  25.0\n",
      "2   30  30  30.0\n",
      "3   35  35  35.0\n",
      "4   40  40  40.0\n"
     ]
    }
   ],
   "source": [
    "# Group by 'ID' and aggregate by 'Age'\n",
    "agg_df = df1.groupby('ID').agg({\n",
    "    'Age': ['min', 'max', 'mean'],\n",
    "})\n",
    "print(\"Aggregation Functions:\")\n",
    "print(agg_df)\n"
   ]
  },
  {
   "cell_type": "code",
   "execution_count": 12,
   "metadata": {},
   "outputs": [
    {
     "name": "stdout",
     "output_type": "stream",
     "text": [
      "SQL-like Query:\n",
      "   ID     Name  Age\n",
      "2   3  Charlie   35\n",
      "3   4    David   40\n",
      "\n",
      " \n"
     ]
    }
   ],
   "source": [
    "# SQL equivalent of SELECT * FROM df1 WHERE Age > 30\n",
    "sql_like_query = df1[df1['Age'] > 30]\n",
    "print(\"SQL-like Query:\")\n",
    "print(sql_like_query)\n",
    "print(\"\")\n",
    "print(\" \")\n",
    "\n"
   ]
  },
  {
   "cell_type": "code",
   "execution_count": 13,
   "metadata": {},
   "outputs": [
    {
     "name": "stdout",
     "output_type": "stream",
     "text": [
      "SQL-like GroupBy:\n",
      "     Age\n",
      "ID      \n",
      "1   25.0\n",
      "2   30.0\n",
      "3   35.0\n",
      "4   40.0\n"
     ]
    }
   ],
   "source": [
    "# SQL equivalent of SELECT AVG(Age) FROM df1 GROUP BY ID\n",
    "sql_like_groupby = df1.groupby('ID').agg({'Age': 'mean'})\n",
    "print(\"SQL-like GroupBy:\")\n",
    "print(sql_like_groupby)\n"
   ]
  },
  {
   "cell_type": "code",
   "execution_count": 14,
   "metadata": {},
   "outputs": [
    {
     "name": "stdout",
     "output_type": "stream",
     "text": [
      "Rows where Name starts with 'A':\n",
      "   ID   Name  Age\n",
      "0   1  Alice   25\n"
     ]
    }
   ],
   "source": [
    "# Using regex to filter rows with 'Name' starting with 'A'\n",
    "regex_filter = df1[df1['Name'].str.match(r'^A', na=False)]\n",
    "print(\"Rows where Name starts with 'A':\")\n",
    "print(regex_filter)\n"
   ]
  },
  {
   "cell_type": "markdown",
   "metadata": {},
   "source": [
    "\n",
    "# Methods and groupby() in pandas\n",
    "\n",
    "In this notebook, we will explore:\n",
    "1. The `method()` functionality in pandas for handling DataFrame operations.\n",
    "2. The `groupby()` method for aggregating data.\n",
    "\n",
    "### 1. `method()` in pandas\n",
    "Methods in pandas are used to manipulate or analyze DataFrame and Series objects. Some commonly used methods include `head()`, `tail()`, `describe()`, `info()`, and more.\n"
   ]
  },
  {
   "cell_type": "code",
   "execution_count": 24,
   "metadata": {},
   "outputs": [
    {
     "data": {
      "text/html": [
       "<div>\n",
       "<style scoped>\n",
       "    .dataframe tbody tr th:only-of-type {\n",
       "        vertical-align: middle;\n",
       "    }\n",
       "\n",
       "    .dataframe tbody tr th {\n",
       "        vertical-align: top;\n",
       "    }\n",
       "\n",
       "    .dataframe thead th {\n",
       "        text-align: right;\n",
       "    }\n",
       "</style>\n",
       "<table border=\"1\" class=\"dataframe\">\n",
       "  <thead>\n",
       "    <tr style=\"text-align: right;\">\n",
       "      <th></th>\n",
       "      <th>Name</th>\n",
       "      <th>Age</th>\n",
       "      <th>Salary</th>\n",
       "    </tr>\n",
       "  </thead>\n",
       "  <tbody>\n",
       "    <tr>\n",
       "      <th>0</th>\n",
       "      <td>Alice</td>\n",
       "      <td>25</td>\n",
       "      <td>50000</td>\n",
       "    </tr>\n",
       "    <tr>\n",
       "      <th>1</th>\n",
       "      <td>Bob</td>\n",
       "      <td>30</td>\n",
       "      <td>60000</td>\n",
       "    </tr>\n",
       "    <tr>\n",
       "      <th>2</th>\n",
       "      <td>Charlie</td>\n",
       "      <td>35</td>\n",
       "      <td>70000</td>\n",
       "    </tr>\n",
       "    <tr>\n",
       "      <th>3</th>\n",
       "      <td>David</td>\n",
       "      <td>40</td>\n",
       "      <td>80000</td>\n",
       "    </tr>\n",
       "    <tr>\n",
       "      <th>4</th>\n",
       "      <td>Eve</td>\n",
       "      <td>45</td>\n",
       "      <td>90000</td>\n",
       "    </tr>\n",
       "    <tr>\n",
       "      <th>5</th>\n",
       "      <td>Frank</td>\n",
       "      <td>50</td>\n",
       "      <td>100000</td>\n",
       "    </tr>\n",
       "  </tbody>\n",
       "</table>\n",
       "</div>"
      ],
      "text/plain": [
       "      Name  Age  Salary\n",
       "0    Alice   25   50000\n",
       "1      Bob   30   60000\n",
       "2  Charlie   35   70000\n",
       "3    David   40   80000\n",
       "4      Eve   45   90000\n",
       "5    Frank   50  100000"
      ]
     },
     "execution_count": 24,
     "metadata": {},
     "output_type": "execute_result"
    }
   ],
   "source": [
    "\n",
    "#### Example\n",
    "import pandas as pd\n",
    "\n",
    "# Creating a sample DataFrame\n",
    "data = {\n",
    "    'Name': ['Alice', 'Bob', 'Charlie', 'David', 'Eve','Frank'],\n",
    "    'Age': [25, 30, 35, 40, 45, 50],\n",
    "    'Salary': [50000, 60000, 70000, 80000, 90000, 100000]\n",
    "}\n",
    "df = pd.DataFrame(data)\n",
    "df\n"
   ]
  },
  {
   "cell_type": "code",
   "execution_count": 26,
   "metadata": {},
   "outputs": [
    {
     "name": "stdout",
     "output_type": "stream",
     "text": [
      "Head of the DataFrame:\n",
      "      Name  Age  Salary\n",
      "0    Alice   25   50000\n",
      "1      Bob   30   60000\n",
      "2  Charlie   35   70000\n",
      "3    David   40   80000\n",
      "4      Eve   45   90000\n"
     ]
    }
   ],
   "source": [
    "# Display the first few rows using head()\n",
    "print(\"Head of the DataFrame:\")\n",
    "print(df.head())"
   ]
  },
  {
   "cell_type": "code",
   "execution_count": 27,
   "metadata": {},
   "outputs": [
    {
     "name": "stdout",
     "output_type": "stream",
     "text": [
      "Tail of the DataFrame:\n",
      "      Name  Age  Salary\n",
      "1      Bob   30   60000\n",
      "2  Charlie   35   70000\n",
      "3    David   40   80000\n",
      "4      Eve   45   90000\n",
      "5    Frank   50  100000\n"
     ]
    }
   ],
   "source": [
    "# Display the last few rows using tail()\n",
    "print(\"Tail of the DataFrame:\")\n",
    "print(df.tail())\n",
    "\n"
   ]
  },
  {
   "cell_type": "code",
   "execution_count": 29,
   "metadata": {},
   "outputs": [
    {
     "name": "stdout",
     "output_type": "stream",
     "text": [
      "Descriptive Statistics:\n",
      "             Age         Salary\n",
      "count   6.000000       6.000000\n",
      "mean   37.500000   75000.000000\n",
      "std     9.354143   18708.286934\n",
      "min    25.000000   50000.000000\n",
      "25%    31.250000   62500.000000\n",
      "50%    37.500000   75000.000000\n",
      "75%    43.750000   87500.000000\n",
      "max    50.000000  100000.000000\n"
     ]
    }
   ],
   "source": [
    "# Descriptive statistics\n",
    "print(\"Descriptive Statistics:\")\n",
    "print(df.describe())"
   ]
  },
  {
   "cell_type": "code",
   "execution_count": 30,
   "metadata": {},
   "outputs": [
    {
     "name": "stdout",
     "output_type": "stream",
     "text": [
      "DataFrame Info:\n",
      "<class 'pandas.core.frame.DataFrame'>\n",
      "RangeIndex: 6 entries, 0 to 5\n",
      "Data columns (total 3 columns):\n",
      " #   Column  Non-Null Count  Dtype \n",
      "---  ------  --------------  ----- \n",
      " 0   Name    6 non-null      object\n",
      " 1   Age     6 non-null      int64 \n",
      " 2   Salary  6 non-null      int64 \n",
      "dtypes: int64(2), object(1)\n",
      "memory usage: 276.0+ bytes\n",
      "None\n"
     ]
    }
   ],
   "source": [
    "# Information about the DataFrame\n",
    "print(\"DataFrame Info:\")\n",
    "print(df.info())"
   ]
  },
  {
   "cell_type": "code",
   "execution_count": 31,
   "metadata": {},
   "outputs": [
    {
     "name": "stdout",
     "output_type": "stream",
     "text": [
      "Grouped by Department (Sum of Salaries):\n",
      "Department\n",
      "Finance     80000\n",
      "HR         105000\n",
      "IT         130000\n",
      "Name: Salary, dtype: int64\n",
      "Grouped by Department (Aggregated Metrics):\n",
      "             Salary              \n",
      "               mean    max    min\n",
      "Department                       \n",
      "Finance     80000.0  80000  80000\n",
      "HR          52500.0  55000  50000\n",
      "IT          65000.0  70000  60000\n"
     ]
    }
   ],
   "source": [
    "# Creating a sample DataFrame\n",
    "data = {\n",
    "    'Department': ['HR', 'IT', 'HR', 'IT', 'Finance'],\n",
    "    'Employee': ['Alice', 'Bob', 'Charlie', 'David', 'Eve'],\n",
    "    'Salary': [50000, 60000, 55000, 70000, 80000]\n",
    "}\n",
    "df = pd.DataFrame(data)\n",
    "\n",
    "# Group by 'Department' and calculate the sum of salaries\n",
    "grouped = df.groupby('Department')['Salary'].sum()\n",
    "print(\"Grouped by Department (Sum of Salaries):\")\n",
    "print(grouped)\n",
    "\n",
    "# Group by 'Department' and calculate multiple aggregates\n",
    "grouped_agg = df.groupby('Department').agg({\n",
    "    'Salary': ['mean', 'max', 'min']\n",
    "})\n",
    "print(\"Grouped by Department (Aggregated Metrics):\")\n",
    "print(grouped_agg)\n"
   ]
  },
  {
   "cell_type": "code",
   "execution_count": null,
   "metadata": {},
   "outputs": [],
   "source": []
  }
 ],
 "metadata": {
  "kernelspec": {
   "display_name": "Python 3",
   "language": "python",
   "name": "python3"
  },
  "language_info": {
   "codemirror_mode": {
    "name": "ipython",
    "version": 3
   },
   "file_extension": ".py",
   "mimetype": "text/x-python",
   "name": "python",
   "nbconvert_exporter": "python",
   "pygments_lexer": "ipython3",
   "version": "3.12.5"
  }
 },
 "nbformat": 4,
 "nbformat_minor": 2
}
