{
 "cells": [
  {
   "cell_type": "code",
   "execution_count": 9,
   "metadata": {},
   "outputs": [
    {
     "name": "stdout",
     "output_type": "stream",
     "text": [
      "[2 3 4 5]\n",
      "starting to end : [ 1  2  3  4  5  6  7  8  9 10]\n",
      "1 to end :  [ 2  3  4  5  6  7  8  9 10]\n",
      "4th  to end :  [ 5  6  7  8  9 10]\n",
      "slicing : 0 to 4 : [1 2 3 4]\n"
     ]
    }
   ],
   "source": [
    "#slicing array -  slicing in python means taking element from one given index to another\n",
    "\n",
    "#[start:end] , [start:end:step] \n",
    "\n",
    "#now we will slice an element an element from 1 to 5 :\n",
    "\n",
    "import numpy as np\n",
    "sat = np.array([1,2,3,4,5,6,7,8,9,10])\n",
    "print(sat[1:5])\n",
    "\n",
    "# starting to end\n",
    "print('starting to end :',sat[0:]) \n",
    "print(\"1 to end : \",sat[1:10])\n",
    "\n",
    "# slicing :[4 to end]\n",
    "print(\"4th  to end : \",sat[4:])\n",
    "\n",
    "# slicing : 0 to 4\n",
    "print(\"slicing : 0 to 4 :\",sat[:4])\n"
   ]
  },
  {
   "cell_type": "code",
   "execution_count": 3,
   "metadata": {},
   "outputs": [
    {
     "name": "stdout",
     "output_type": "stream",
     "text": [
      "[2 3 4 5]\n",
      "starting to end :  [ 1  2  3  4  5  6  7  8  9 10]\n",
      "starting to end :  [1 2 3 4 5 6 7 8 9]\n",
      "index 3 to end :  [8 9]\n",
      "index 5 to 8 : [3 4 5]\n"
     ]
    }
   ],
   "source": [
    "#\n",
    "import numpy as np\n",
    "sat = np.array([1,2,3,4,5,6,7,8,9,10])\n",
    "print(sat[1:5])\n",
    "\n",
    "# negative starting to end\n",
    "print('starting to end : ',sat[:]) \n",
    "print('starting to end : ',sat[:-1]) \n",
    "\n",
    "#Negative Slicing - index 3 to end\n",
    "print('index 3 to end : ',sat[-3:-1])\n",
    "\n",
    "#Negative Slicing - index 5 to 8\n",
    "print('index 5 to 8 :',sat[-8:-5])\n"
   ]
  },
  {
   "cell_type": "code",
   "execution_count": 8,
   "metadata": {},
   "outputs": [
    {
     "name": "stdout",
     "output_type": "stream",
     "text": [
      "[2 4 6 8]\n",
      "Even  :  [ 2  4  6  8 10]\n",
      "Natural :  [ 1  2  3  4  5  6  7  8  9 10]\n",
      "odd :  [1 3 5 7 9]\n",
      "index 5 to 8 : []\n"
     ]
    }
   ],
   "source": [
    "#\n",
    "import numpy as np\n",
    "sat = np.array([1,2,3,4,5,6,7,8,9,10])\n",
    "print(sat[1:8:2])\n",
    "\n",
    "print(\"Even  : \",sat[1::2])\n",
    "print(\"Natural : \",sat[::1])\n",
    "print(\"odd : \",sat[::2])\n",
    "print('index 5 to 8 :',sat[-8:-5:-3])\n"
   ]
  },
  {
   "cell_type": "code",
   "execution_count": 10,
   "metadata": {},
   "outputs": [
    {
     "name": "stdout",
     "output_type": "stream",
     "text": [
      "[2 3 4]\n"
     ]
    }
   ],
   "source": [
    "#2-D slicing :\n",
    "import numpy as np\n",
    "satyam = np.array([[4410 , 55 , 22 ,67,398],\n",
    "                   [1,2,3,4,5]])\n",
    "print(satyam[1,1:4])"
   ]
  },
  {
   "cell_type": "code",
   "execution_count": 14,
   "metadata": {},
   "outputs": [
    {
     "name": "stdout",
     "output_type": "stream",
     "text": [
      "[5 6]\n",
      "[1 2 3 4]\n",
      "[5 6 7]\n",
      "[[[1 2 3 4]\n",
      "  [4 5 6 7]]\n",
      "\n",
      " [[1 2 3 4]\n",
      "  [4 5 6 7]]]\n"
     ]
    }
   ],
   "source": [
    "#3-D: slicing\n",
    "import numpy as np\n",
    "x = np.array([[[1,2,3,4],[4,5,6,7]],\n",
    "              [[1,2,3,4],[4,5,6,7]]])\n",
    "print(x[1,1,1:3])  \n",
    "print(x[0,0,:])\n",
    "print(x[0,1,1:5])\n",
    "print(x[: , :])\n"
   ]
  },
  {
   "cell_type": "code",
   "execution_count": 16,
   "metadata": {},
   "outputs": [
    {
     "name": "stdout",
     "output_type": "stream",
     "text": [
      "[[[4 5 6 7]]\n",
      "\n",
      " [[4 5 6 7]]]\n"
     ]
    }
   ],
   "source": [
    "#3-D: slicing\n",
    "import numpy as np\n",
    "x = np.array([[[1,2,3,4],[4,5,6,7]],\n",
    "              [[1,2,3,4],[4,5,6,7]]])\n",
    "\n",
    "print(x[0:3 ,1 :4])\n"
   ]
  },
  {
   "cell_type": "code",
   "execution_count": null,
   "metadata": {},
   "outputs": [],
   "source": []
  }
 ],
 "metadata": {
  "kernelspec": {
   "display_name": "Python 3",
   "language": "python",
   "name": "python3"
  },
  "language_info": {
   "codemirror_mode": {
    "name": "ipython",
    "version": 3
   },
   "file_extension": ".py",
   "mimetype": "text/x-python",
   "name": "python",
   "nbconvert_exporter": "python",
   "pygments_lexer": "ipython3",
   "version": "3.12.5"
  }
 },
 "nbformat": 4,
 "nbformat_minor": 2
}
