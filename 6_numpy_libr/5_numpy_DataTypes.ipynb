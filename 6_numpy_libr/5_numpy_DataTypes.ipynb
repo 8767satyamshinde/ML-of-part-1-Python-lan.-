{
 "cells": [
  {
   "cell_type": "code",
   "execution_count": 4,
   "metadata": {},
   "outputs": [
    {
     "name": "stdout",
     "output_type": "stream",
     "text": [
      "int64\n",
      "<U10\n"
     ]
    }
   ],
   "source": [
    "# Data types in python : String , integer , float , boolean , complex .\n",
    "\n",
    "# data type in numpy : dtype\n",
    "# i for integer :\n",
    "# b for boolean :\n",
    "# u for unsigned integer :\n",
    "# f for float :\n",
    "# c for complex float :\n",
    "# m  for timedate :\n",
    "# M for datetime :\n",
    "# O for object :\n",
    "# s for string :\n",
    "# U for unicode string :\n",
    "# V - memory : \n",
    " \n",
    " \n",
    "\n",
    "\n"
   ]
  },
  {
   "cell_type": "code",
   "execution_count": 9,
   "metadata": {},
   "outputs": [
    {
     "name": "stdout",
     "output_type": "stream",
     "text": [
      "int64\n",
      "string list of fruites data type is :  <U10\n",
      "[b'1' b'2' b'3' b'4' b'5' b'6']\n",
      "|S1\n"
     ]
    }
   ],
   "source": [
    " # Data type to cheking :\n",
    " \n",
    " #Cheacking the data type of numpy array -dtype\n",
    "import numpy as np\n",
    "x = np.array([1,2,3,4,5,6])\n",
    "print(x.dtype)\n",
    "\n"
   ]
  },
  {
   "cell_type": "code",
   "execution_count": 10,
   "metadata": {},
   "outputs": [
    {
     "name": "stdout",
     "output_type": "stream",
     "text": [
      "string list of fruites data type is :  <U10\n",
      "[b'1' b'2' b'3' b'4' b'5' b'6']\n",
      "|S1\n"
     ]
    }
   ],
   "source": [
    "\n",
    "#Cheacking the data type of numpy array -string\n",
    "import numpy as np\n",
    "xy = np.array(['apple','banana','grephs','cheri','watermelan','orange','peri-peri'])\n",
    "print(\"string list of fruites data type is : \",xy.dtype)\n",
    "\n"
   ]
  },
  {
   "cell_type": "code",
   "execution_count": 11,
   "metadata": {},
   "outputs": [
    {
     "name": "stdout",
     "output_type": "stream",
     "text": [
      "[b'1' b'2' b'3' b'4' b'5' b'6']\n",
      "|S1\n"
     ]
    }
   ],
   "source": [
    "# creating array with a defined data type :\n",
    "import numpy as np\n",
    "x = np.array([1,2,3,4,5,6],dtype='S')\n",
    "print(x)\n",
    "print(x.dtype)\n",
    "\n"
   ]
  },
  {
   "cell_type": "code",
   "execution_count": 18,
   "metadata": {},
   "outputs": [
    {
     "name": "stdout",
     "output_type": "stream",
     "text": [
      "[1 2 3 4 5 6]\n",
      "int32\n"
     ]
    }
   ],
   "source": [
    "\n",
    "# now we will create an arry with data type of 4 byte int :\n",
    "\n",
    "import numpy as np\n",
    "x = np.array([1,2,3,4,5,6],dtype='i4')\n",
    "print(x)\n",
    "print(x.dtype)\n",
    "\n",
    "\n"
   ]
  },
  {
   "cell_type": "code",
   "execution_count": 30,
   "metadata": {},
   "outputs": [
    {
     "ename": "ValueError",
     "evalue": "invalid literal for int() with base 10: 'a'",
     "output_type": "error",
     "traceback": [
      "\u001b[1;31m---------------------------------------------------------------------------\u001b[0m",
      "\u001b[1;31mValueError\u001b[0m                                Traceback (most recent call last)",
      "Cell \u001b[1;32mIn[30], line 4\u001b[0m\n\u001b[0;32m      1\u001b[0m \u001b[38;5;66;03m#if a type is given in which the element can't be casted then numpy will raise error. What if a value can't be converted?\u001b[39;00m\n\u001b[0;32m      3\u001b[0m \u001b[38;5;28;01mimport\u001b[39;00m \u001b[38;5;21;01mnumpy\u001b[39;00m \u001b[38;5;28;01mas\u001b[39;00m \u001b[38;5;21;01mnp\u001b[39;00m\n\u001b[1;32m----> 4\u001b[0m x \u001b[38;5;241m=\u001b[39m \u001b[43mnp\u001b[49m\u001b[38;5;241;43m.\u001b[39;49m\u001b[43marray\u001b[49m\u001b[43m(\u001b[49m\u001b[43m[\u001b[49m\u001b[38;5;124;43m'\u001b[39;49m\u001b[38;5;124;43ma\u001b[39;49m\u001b[38;5;124;43m'\u001b[39;49m\u001b[43m,\u001b[49m\u001b[38;5;124;43m'\u001b[39;49m\u001b[38;5;124;43m1\u001b[39;49m\u001b[38;5;124;43m'\u001b[39;49m\u001b[43m,\u001b[49m\u001b[38;5;124;43m'\u001b[39;49m\u001b[38;5;124;43mb\u001b[39;49m\u001b[38;5;124;43m'\u001b[39;49m\u001b[43m,\u001b[49m\u001b[38;5;124;43m'\u001b[39;49m\u001b[38;5;124;43my\u001b[39;49m\u001b[38;5;124;43m'\u001b[39;49m\u001b[43m,\u001b[49m\u001b[38;5;124;43m'\u001b[39;49m\u001b[38;5;124;43m33\u001b[39;49m\u001b[38;5;124;43m'\u001b[39;49m\u001b[43m]\u001b[49m\u001b[43m,\u001b[49m\u001b[43mdtype\u001b[49m\u001b[38;5;241;43m=\u001b[39;49m\u001b[38;5;124;43m'\u001b[39;49m\u001b[38;5;124;43mi\u001b[39;49m\u001b[38;5;124;43m'\u001b[39;49m\u001b[43m)\u001b[49m\n\u001b[0;32m      5\u001b[0m \u001b[38;5;28mprint\u001b[39m(x)\n\u001b[0;32m      6\u001b[0m \u001b[38;5;28mprint\u001b[39m(x\u001b[38;5;241m.\u001b[39mastype(\u001b[38;5;124m'\u001b[39m\u001b[38;5;124mi\u001b[39m\u001b[38;5;124m'\u001b[39m))\n",
      "\u001b[1;31mValueError\u001b[0m: invalid literal for int() with base 10: 'a'"
     ]
    }
   ],
   "source": [
    "#if a type is given in which the element can't be casted then numpy will raise error. What if a value can't be converted?\n",
    "\n",
    "import numpy as np\n",
    "x = np.array(['a','1','b','y','33'],dtype='i')\n",
    "print(x)\n",
    "print(x.astype(''))\n",
    "#print(x.dtype)"
   ]
  },
  {
   "cell_type": "code",
   "execution_count": 28,
   "metadata": {},
   "outputs": [
    {
     "name": "stdout",
     "output_type": "stream",
     "text": [
      "[1.  5.1 0.1 1.2 1.3]\n",
      "[1 5 0 1 1]\n"
     ]
    }
   ],
   "source": [
    "#Converting data type in existing array - astype()\n",
    "import numpy as np\n",
    "x = np.array([1.0, 5.1, .1, 1.2, 1.3])\n",
    "print(x)\n",
    "print(x.astype('i'))"
   ]
  },
  {
   "cell_type": "code",
   "execution_count": 31,
   "metadata": {},
   "outputs": [
    {
     "name": "stdout",
     "output_type": "stream",
     "text": [
      "Given list :  [1 0 3 8]\n",
      "[ True False  True  True]\n",
      "bool\n"
     ]
    }
   ],
   "source": [
    "#Converting data type from integer to boolean\n",
    "import numpy as np\n",
    "x = np.array([1,0,3,8])\n",
    "print(\"Given list : \",x)\n",
    "y = x.astype(bool)\n",
    "print(y)\n",
    "print(y.dtype)"
   ]
  },
  {
   "cell_type": "code",
   "execution_count": 32,
   "metadata": {},
   "outputs": [
    {
     "name": "stdout",
     "output_type": "stream",
     "text": [
      "Given list :  [1 0 3 8]\n",
      "[1. 0. 3. 8.]\n",
      "float64\n"
     ]
    }
   ],
   "source": [
    "#Converting data type from integer to float\n",
    "import numpy as np\n",
    "x = np.array([1,0,3,8])\n",
    "print(\"Given list : \",x)\n",
    "y = x.astype(float)\n",
    "print(y)\n",
    "print(y.dtype)"
   ]
  },
  {
   "cell_type": "code",
   "execution_count": null,
   "metadata": {},
   "outputs": [],
   "source": []
  }
 ],
 "metadata": {
  "kernelspec": {
   "display_name": "Python 3",
   "language": "python",
   "name": "python3"
  },
  "language_info": {
   "codemirror_mode": {
    "name": "ipython",
    "version": 3
   },
   "file_extension": ".py",
   "mimetype": "text/x-python",
   "name": "python",
   "nbconvert_exporter": "python",
   "pygments_lexer": "ipython3",
   "version": "3.12.5"
  }
 },
 "nbformat": 4,
 "nbformat_minor": 2
}
