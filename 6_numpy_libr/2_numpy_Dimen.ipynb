{
 "cells": [
  {
   "cell_type": "code",
   "execution_count": 1,
   "metadata": {},
   "outputs": [
    {
     "name": "stdout",
     "output_type": "stream",
     "text": [
      "[1 2 3 4 5 6 7 8 9]\n",
      "<class 'numpy.ndarray'>\n"
     ]
    }
   ],
   "source": [
    "import numpy as np\n",
    "s = np.array([1,2,3,4,5,6,7,8,9])\n",
    "print(s)\n",
    "print(type(s))"
   ]
  },
  {
   "cell_type": "code",
   "execution_count": 2,
   "metadata": {},
   "outputs": [
    {
     "name": "stdout",
     "output_type": "stream",
     "text": [
      "[1 2 3 4 5 6 7 8 9]\n",
      "<class 'numpy.ndarray'>\n"
     ]
    }
   ],
   "source": [
    "import numpy as np\n",
    "y = np.array([1,2,3,4,5,6,7,8,9])\n",
    "print(y)\n",
    "print(type(y))"
   ]
  },
  {
   "cell_type": "code",
   "execution_count": 7,
   "metadata": {},
   "outputs": [
    {
     "name": "stdout",
     "output_type": "stream",
     "text": [
      "4410\n"
     ]
    }
   ],
   "source": [
    "#dimention in arry\n",
    "\n",
    "#0-D:\n",
    "import numpy as np\n",
    "x = np.array(4410)\n",
    "print(x)\n",
    "\n"
   ]
  },
  {
   "cell_type": "code",
   "execution_count": 6,
   "metadata": {},
   "outputs": [
    {
     "name": "stdout",
     "output_type": "stream",
     "text": [
      "[4410   55   22   67  398]\n"
     ]
    }
   ],
   "source": [
    "#1-D:\n",
    "import numpy as np\n",
    "satyam = np.array([4410 , 55 , 22 ,67,398])\n",
    "print(satyam)\n"
   ]
  },
  {
   "cell_type": "code",
   "execution_count": 14,
   "metadata": {},
   "outputs": [
    {
     "name": "stdout",
     "output_type": "stream",
     "text": [
      "[[4410   55   22   67  398]\n",
      " [   1    2    3    4    5]]\n"
     ]
    }
   ],
   "source": [
    "#2-D:\n",
    "# Create a 2-D array containig 2 Arrays with certain values.\n",
    "import numpy as np\n",
    "satyam = np.array([[4410 , 55 , 22 ,67,398], [1,2,3,4,5]])\n",
    "print(satyam)\n"
   ]
  },
  {
   "cell_type": "code",
   "execution_count": 15,
   "metadata": {},
   "outputs": [
    {
     "name": "stdout",
     "output_type": "stream",
     "text": [
      "[[[1 2 3 4]\n",
      "  [4 5 6 7]]\n",
      "\n",
      " [[1 2 3 4]\n",
      "  [4 5 6 7]]]\n"
     ]
    }
   ],
   "source": [
    "# dimention in arry\n",
    "# Now we will Create a 3-D array with 2-D array.\n",
    "#3-D:\n",
    "import numpy as np\n",
    "x = np.array([[[1,2,3,4],[4,5,6,7]],[[1,2,3,4],[4,5,6,7]]])\n",
    "print(x)\n",
    "\n"
   ]
  },
  {
   "cell_type": "code",
   "execution_count": 21,
   "metadata": {},
   "outputs": [
    {
     "name": "stdout",
     "output_type": "stream",
     "text": [
      "a number of dimentions :  0\n",
      "b number of dimentions :  1\n",
      "c number of dimentions :  2\n",
      "d number of dimentions :  3\n"
     ]
    }
   ],
   "source": [
    "#Cheack how many dimentions the arry have: ndim attribute\n",
    "import numpy as np\n",
    "a = np.array(4410)\n",
    "b = np.array([4410 , 55 , 22 ,67,398])\n",
    "c = np.array([[4410 , 55 , 22 ,67,398], [1,2,3,4,5]])\n",
    "d = np.array([[[1,2,3,4],[4,5,6,7]],[[1,2,3,4],[4,5,6,7]]])\n",
    "\n",
    "print(\"a number of dimentions : \",a.ndim)\n",
    "print(\"b number of dimentions : \",b.ndim)\n",
    "print(\"c number of dimentions : \",c.ndim)\n",
    "print(\"d number of dimentions : \",d.ndim)"
   ]
  },
  {
   "cell_type": "code",
   "execution_count": 20,
   "metadata": {},
   "outputs": [
    {
     "name": "stdout",
     "output_type": "stream",
     "text": [
      "[[[[[1 3 5 7]]]]]\n",
      "number of dimention:  5\n"
     ]
    }
   ],
   "source": [
    "# create an array with 5 dimention  and verify it has 5 dimention\n",
    "\n",
    "import numpy as np\n",
    "satyam = np.array([1,3,5,7], ndmin=5)\n",
    "print(satyam)\n",
    "print(\"number of dimention: \",satyam.ndim)\n",
    "\n"
   ]
  },
  {
   "cell_type": "code",
   "execution_count": null,
   "metadata": {},
   "outputs": [],
   "source": []
  }
 ],
 "metadata": {
  "kernelspec": {
   "display_name": "Python 3",
   "language": "python",
   "name": "python3"
  },
  "language_info": {
   "codemirror_mode": {
    "name": "ipython",
    "version": 3
   },
   "file_extension": ".py",
   "mimetype": "text/x-python",
   "name": "python",
   "nbconvert_exporter": "python",
   "pygments_lexer": "ipython3",
   "version": "3.12.5"
  }
 },
 "nbformat": 4,
 "nbformat_minor": 2
}
