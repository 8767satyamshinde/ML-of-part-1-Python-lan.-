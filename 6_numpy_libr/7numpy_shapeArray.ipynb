{
 "cells": [
  {
   "cell_type": "code",
   "execution_count": 4,
   "metadata": {},
   "outputs": [
    {
     "name": "stdout",
     "output_type": "stream",
     "text": [
      "(2, 8)\n"
     ]
    }
   ],
   "source": [
    "#shape of an array - the shape of an array is the number of element in each dimentions.\n",
    "#now we will try to get the shape of any array.\n",
    "\n",
    "import numpy as np\n",
    "x = np.array([[1,3,5,7,9,11,13,15],\n",
    "              [2,4,6,8,10,12,14,16]])\n",
    "print(x.shape)           # show: [ dimention, element in dementions ]\n",
    " "
   ]
  },
  {
   "cell_type": "code",
   "execution_count": 5,
   "metadata": {},
   "outputs": [
    {
     "name": "stdout",
     "output_type": "stream",
     "text": [
      "[[[[[1 3 5 7]]]]]\n",
      "the shape of array is  (1, 1, 1, 1, 4)\n"
     ]
    }
   ],
   "source": [
    "# now we will create a %-D array usinf ndim :\n",
    "\n",
    "import numpy as np\n",
    "satyam = np.array([1,3,5,7], ndmin=5)\n",
    "print(satyam)\n",
    "print(\"the shape of array is \",satyam.shape)\n",
    "\n"
   ]
  },
  {
   "cell_type": "code",
   "execution_count": null,
   "metadata": {},
   "outputs": [],
   "source": []
  },
  {
   "cell_type": "code",
   "execution_count": null,
   "metadata": {},
   "outputs": [],
   "source": []
  }
 ],
 "metadata": {
  "kernelspec": {
   "display_name": "Python 3",
   "language": "python",
   "name": "python3"
  },
  "language_info": {
   "codemirror_mode": {
    "name": "ipython",
    "version": 3
   },
   "file_extension": ".py",
   "mimetype": "text/x-python",
   "name": "python",
   "nbconvert_exporter": "python",
   "pygments_lexer": "ipython3",
   "version": "3.12.5"
  }
 },
 "nbformat": 4,
 "nbformat_minor": 2
}
