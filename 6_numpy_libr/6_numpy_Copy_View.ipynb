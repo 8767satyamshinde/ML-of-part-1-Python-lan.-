{
 "cells": [
  {
   "cell_type": "code",
   "execution_count": 1,
   "metadata": {},
   "outputs": [
    {
     "name": "stdout",
     "output_type": "stream",
     "text": [
      "[ 1  3  5  7  9 11 13 15]\n",
      "[ 1  3  5  7  9 11 13 15]\n"
     ]
    }
   ],
   "source": [
    "#differance betn numpy array copy and view.\n",
    "#we will make a copy, change in original arrray, and display both.\n",
    "\n",
    "import numpy as np\n",
    "\n",
    "x = np.array([1,3,5,7,9,11,13,15])\n",
    "y = x.copy()\n",
    "print(x)\n",
    "print(y)\n"
   ]
  },
  {
   "cell_type": "code",
   "execution_count": 4,
   "metadata": {},
   "outputs": [
    {
     "name": "stdout",
     "output_type": "stream",
     "text": [
      "[ 1  3  5  7  9 11 13 15]\n",
      "[ 1  3  5  7  9 11 13 15]\n",
      "[88  3  5  7  9 11 13 15]\n",
      "[88  3  5  7  9 11 13 15]\n"
     ]
    }
   ],
   "source": [
    "# now we will make a view, change original , display both.\n",
    "\n",
    "import numpy as np\n",
    "\n",
    "x = np.array([1,3,5,7,9,11,13,15])\n",
    "y = x.view()\n",
    "print(x)\n",
    "print(y)\n",
    "x[0]=88\n",
    "print(x)\n",
    "print(y)\n"
   ]
  },
  {
   "cell_type": "code",
   "execution_count": null,
   "metadata": {},
   "outputs": [],
   "source": []
  }
 ],
 "metadata": {
  "kernelspec": {
   "display_name": "Python 3",
   "language": "python",
   "name": "python3"
  },
  "language_info": {
   "codemirror_mode": {
    "name": "ipython",
    "version": 3
   },
   "file_extension": ".py",
   "mimetype": "text/x-python",
   "name": "python",
   "nbconvert_exporter": "python",
   "pygments_lexer": "ipython3",
   "version": "3.12.5"
  }
 },
 "nbformat": 4,
 "nbformat_minor": 2
}
