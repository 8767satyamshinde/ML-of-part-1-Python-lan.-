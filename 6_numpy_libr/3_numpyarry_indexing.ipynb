{
 "cells": [
  {
   "cell_type": "code",
   "execution_count": 1,
   "metadata": {},
   "outputs": [
    {
     "name": "stdout",
     "output_type": "stream",
     "text": [
      "2\n"
     ]
    }
   ],
   "source": [
    "#array indexing is the sae as accesing an array element. start woth 0, second 1\n",
    "\n",
    "import numpy as np\n",
    "\n",
    "satyam = np.array([1,2,3,4,5,6,7,8,9])\n",
    "print(satyam[1])\n",
    "\n"
   ]
  },
  {
   "cell_type": "code",
   "execution_count": 3,
   "metadata": {},
   "outputs": [
    {
     "name": "stdout",
     "output_type": "stream",
     "text": [
      "9\n"
     ]
    }
   ],
   "source": [
    "# we can get the third and fourth element from adding them\n",
    "import numpy as np\n",
    "satyam = np.array([1,2,3,4,5,6,7,8,9])\n",
    "print(satyam[3] + satyam[4] )"
   ]
  },
  {
   "cell_type": "code",
   "execution_count": 10,
   "metadata": {},
   "outputs": [
    {
     "name": "stdout",
     "output_type": "stream",
     "text": [
      "2nd element in the 2nd rows : 7\n",
      "5th element in the 2nd rows : 10\n",
      "3nd element in the 1st rows : 3\n",
      "4th element in the 1nd rows : 4\n",
      "0th element in the 1st rows : 1\n"
     ]
    }
   ],
   "source": [
    "#Accessing the 2-D it is like a rows and colums.\n",
    "import numpy as np\n",
    "x = np.array([[1,2,3,4,5],[6,7,8,9,10]])\n",
    "print(\"2nd element in the 2nd rows :\",x[1,1])\n",
    "print(\"5th element in the 2nd rows :\",x[1,4])\n",
    "print(\"3nd element in the 1st rows :\",x[0,2])\n",
    "print(\"4th element in the 1nd rows :\",x[0,3])\n",
    "print(\"0th element in the 1st rows :\",x[0,0])\n"
   ]
  },
  {
   "cell_type": "code",
   "execution_count": 21,
   "metadata": {},
   "outputs": [
    {
     "name": "stdout",
     "output_type": "stream",
     "text": [
      "7\n",
      "10\n",
      "13\n"
     ]
    }
   ],
   "source": [
    "# accessing the 3-D same as accessing \n",
    "import numpy as np\n",
    "x = np.array([ [[1, 2, 3, 4, 5], [6, 7, 8, 9, 10]], \n",
    "               [[11, 12, 13, 14, 15], [16, 17, 18, 19, 20]] ])\n",
    "\n",
    "\n",
    "print(x[0,1,1])  # Output: 7\n",
    "print(x[0,1,4])  # Output: 10\n",
    "print(x[1,0,2])  # Output: 13\n"
   ]
  },
  {
   "cell_type": "code",
   "execution_count": null,
   "metadata": {},
   "outputs": [],
   "source": []
  }
 ],
 "metadata": {
  "kernelspec": {
   "display_name": "Python 3",
   "language": "python",
   "name": "python3"
  },
  "language_info": {
   "codemirror_mode": {
    "name": "ipython",
    "version": 3
   },
   "file_extension": ".py",
   "mimetype": "text/x-python",
   "name": "python",
   "nbconvert_exporter": "python",
   "pygments_lexer": "ipython3",
   "version": "3.12.5"
  }
 },
 "nbformat": 4,
 "nbformat_minor": 2
}
