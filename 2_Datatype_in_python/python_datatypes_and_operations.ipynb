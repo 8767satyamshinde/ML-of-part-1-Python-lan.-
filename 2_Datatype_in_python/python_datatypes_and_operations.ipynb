{
 "cells": [
  {
   "cell_type": "code",
   "execution_count": 1,
   "id": "cf090062",
   "metadata": {},
   "outputs": [
    {
     "name": "stdout",
     "output_type": "stream",
     "text": [
      "[1, 2, 3, 4]\n"
     ]
    }
   ],
   "source": [
    "\n",
    "# Operations on Lists\n",
    "# Common list operations such as indexing, slicing, appending, removing, and extending lists.\n",
    "my_list = [1, 2, 3]\n",
    "my_list.append(4)  # Output: [1, 2, 3, 4]\n",
    "print(my_list)\n"
   ]
  },
  {
   "cell_type": "code",
   "execution_count": 2,
   "id": "8e81756a",
   "metadata": {},
   "outputs": [
    {
     "name": "stdout",
     "output_type": "stream",
     "text": [
      "<class 'tuple'>\n"
     ]
    }
   ],
   "source": [
    "\n",
    "# Tuple Datatype\n",
    "# Example and explanation of creating and using tuples.\n",
    "my_tuple = (1, 2, 3)\n",
    "print(type(my_tuple))  # Output: <class 'tuple'>\n"
   ]
  },
  {
   "cell_type": "code",
   "execution_count": 3,
   "id": "bb38f1c5",
   "metadata": {},
   "outputs": [
    {
     "name": "stdout",
     "output_type": "stream",
     "text": [
      "1\n"
     ]
    }
   ],
   "source": [
    "\n",
    "# Operations on Tuples\n",
    "# Common operations like indexing and counting elements.\n",
    "count_of_1 = my_tuple.count(1)  # Output: 1\n",
    "print(count_of_1)\n"
   ]
  },
  {
   "cell_type": "code",
   "execution_count": 4,
   "id": "7a4d8333",
   "metadata": {},
   "outputs": [
    {
     "name": "stdout",
     "output_type": "stream",
     "text": [
      "0\n",
      "1\n",
      "2\n",
      "3\n",
      "4\n"
     ]
    }
   ],
   "source": [
    "\n",
    "# range Datatype\n",
    "# Explanation of range and examples.\n",
    "for i in range(5):\n",
    "    print(i)  # Output: 0, 1, 2, 3, 4\n"
   ]
  },
  {
   "cell_type": "code",
   "execution_count": 5,
   "id": "816f4cd2",
   "metadata": {},
   "outputs": [
    {
     "name": "stdout",
     "output_type": "stream",
     "text": [
      "{1, 2, 3, 4}\n"
     ]
    }
   ],
   "source": [
    "\n",
    "# Sets\n",
    "# Overview of sets and their uses in Python.\n",
    "# set Datatype\n",
    "# Creating and using sets with common set operations.\n",
    "my_set = {1, 2, 3}\n",
    "my_set.add(4)  # Output: {1, 2, 3, 4}\n",
    "print(my_set)\n"
   ]
  },
  {
   "cell_type": "code",
   "execution_count": 6,
   "id": "dd122000",
   "metadata": {},
   "outputs": [
    {
     "name": "stdout",
     "output_type": "stream",
     "text": [
      "<class 'frozenset'>\n"
     ]
    }
   ],
   "source": [
    "\n",
    "# frozenset Datatype\n",
    "# Creating and using frozenset.\n",
    "my_frozenset = frozenset([1, 2, 3])\n",
    "print(type(my_frozenset))  # Output: <class 'frozenset'>\n"
   ]
  },
  {
   "cell_type": "code",
   "execution_count": 7,
   "id": "0a2a5c62",
   "metadata": {},
   "outputs": [
    {
     "name": "stdout",
     "output_type": "stream",
     "text": [
      "{'a': 1, 'b': 2, 'c': 3}\n"
     ]
    }
   ],
   "source": [
    "\n",
    "# Mapping Types\n",
    "# Overview of mapping types like dictionaries.\n",
    "my_dict = {'a': 1, 'b': 2, 'c': 3}\n",
    "print(my_dict)\n"
   ]
  },
  {
   "cell_type": "code",
   "execution_count": 8,
   "id": "9bda146f",
   "metadata": {},
   "outputs": [
    {
     "name": "stdout",
     "output_type": "stream",
     "text": [
      "10 10.5 True\n"
     ]
    }
   ],
   "source": [
    "\n",
    "# Literals in Python\n",
    "# Explanation of different literals like numeric, string, and boolean literals.\n",
    "int_literal = 10\n",
    "float_literal = 10.5\n",
    "bool_literal = True\n",
    "print(int_literal, float_literal, bool_literal)\n"
   ]
  },
  {
   "cell_type": "code",
   "execution_count": 9,
   "id": "53497bc8",
   "metadata": {},
   "outputs": [
    {
     "name": "stdout",
     "output_type": "stream",
     "text": [
      "<class 'int'>\n"
     ]
    }
   ],
   "source": [
    "\n",
    "# Determining the Datatype of a Variable\n",
    "# Using type() to check a variable’s datatype.\n",
    "var = 5\n",
    "print(type(var))  # Output: <class 'int'>\n"
   ]
  },
  {
   "cell_type": "code",
   "execution_count": 10,
   "id": "5036aa1a",
   "metadata": {},
   "outputs": [
    {
     "name": "stdout",
     "output_type": "stream",
     "text": [
      "<class 'str'>\n"
     ]
    }
   ],
   "source": [
    "\n",
    "# What about Characters\n",
    "# Explanation of character representation using strings in Python.\n",
    "char = 'A'\n",
    "print(type(char))  # Output: <class 'str'>\n"
   ]
  },
  {
   "cell_type": "code",
   "execution_count": 11,
   "id": "206c3b5b",
   "metadata": {},
   "outputs": [
    {
     "name": "stdout",
     "output_type": "stream",
     "text": [
      "John 25\n"
     ]
    }
   ],
   "source": [
    "\n",
    "# User-defined Datatypes\n",
    "# Explanation of user-defined datatypes like classes.\n",
    "class Person:\n",
    "    def __init__(self, name, age):\n",
    "        self.name = name\n",
    "        self.age = age\n",
    "\n",
    "person = Person(\"John\", 25)\n",
    "print(person.name, person.age)\n"
   ]
  },
  {
   "cell_type": "code",
   "execution_count": 12,
   "id": "fe9442b4",
   "metadata": {},
   "outputs": [
    {
     "name": "stdout",
     "output_type": "stream",
     "text": [
      "3.14\n"
     ]
    }
   ],
   "source": [
    "\n",
    "# Constants in Python\n",
    "# Convention for defining constants.\n",
    "PI = 3.14  # Conventionally treated as a constant\n",
    "print(PI)\n"
   ]
  },
  {
   "cell_type": "code",
   "execution_count": 13,
   "id": "1da7bcf1",
   "metadata": {},
   "outputs": [
    {
     "name": "stdout",
     "output_type": "stream",
     "text": [
      "['False', 'None', 'True', 'and', 'as', 'assert', 'async', 'await', 'break', 'class', 'continue', 'def', 'del', 'elif', 'else', 'except', 'finally', 'for', 'from', 'global', 'if', 'import', 'in', 'is', 'lambda', 'nonlocal', 'not', 'or', 'pass', 'raise', 'return', 'try', 'while', 'with', 'yield']\n"
     ]
    }
   ],
   "source": [
    "\n",
    "# Identifiers and Reserved Words\n",
    "# Explanation of identifiers and keywords.\n",
    "# Example of reserved words\n",
    "import keyword\n",
    "print(keyword.kwlist)\n"
   ]
  },
  {
   "cell_type": "code",
   "execution_count": null,
   "id": "0472ebad",
   "metadata": {},
   "outputs": [],
   "source": []
  }
 ],
 "metadata": {
  "kernelspec": {
   "display_name": "Python 3",
   "language": "python",
   "name": "python3"
  },
  "language_info": {
   "codemirror_mode": {
    "name": "ipython",
    "version": 3
   },
   "file_extension": ".py",
   "mimetype": "text/x-python",
   "name": "python",
   "nbconvert_exporter": "python",
   "pygments_lexer": "ipython3",
   "version": "3.12.5"
  }
 },
 "nbformat": 4,
 "nbformat_minor": 5
}
