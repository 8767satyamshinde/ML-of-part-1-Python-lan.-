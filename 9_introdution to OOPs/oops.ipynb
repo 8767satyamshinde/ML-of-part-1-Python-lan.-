{
 "cells": [
  {
   "cell_type": "markdown",
   "metadata": {},
   "source": []
  },
  {
   "cell_type": "code",
   "execution_count": 1,
   "metadata": {},
   "outputs": [
    {
     "ename": "SyntaxError",
     "evalue": "unterminated string literal (detected at line 64) (3369809203.py, line 64)",
     "output_type": "error",
     "traceback": [
      "\u001b[1;36m  Cell \u001b[1;32mIn[1], line 64\u001b[1;36m\u001b[0m\n\u001b[1;33m    Constructors initialize an object's attributes when it is created. Destructors clean up resources when the object is deleted.\u001b[0m\n\u001b[1;37m                                     ^\u001b[0m\n\u001b[1;31mSyntaxError\u001b[0m\u001b[1;31m:\u001b[0m unterminated string literal (detected at line 64)\n"
     ]
    }
   ],
   "source": [
    "# Module 8: Object-Oriented Programming\n",
    "\n",
    "### Topics Covered:\n",
    "1. Introduction to Object-Oriented Programming\n",
    "2. Defining a Class (Part 1)\n",
    "3. Defining a Class (Part 2)\n",
    "4. Constructors and Destructors\n",
    "5. Functions vs Object-Oriented Programming\n",
    "6. Inheritance\n",
    "7. Single-Level Inheritance\n",
    "8. Multi-Level Inheritance\n",
    "9. Multiple Inheritance\n",
    "10. Operator Overloading\n",
    "11. Data Hiding\n",
    "\n",
    "### 1. Introduction to Object-Oriented Programming\n",
    "Object-Oriented Programming (OOP) is a programming paradigm that organizes and models data as objects, which have attributes (properties) and methods (functions). The key concepts include encapsulation, inheritance, polymorphism, and abstraction.\n",
    "\n",
    "**Example:**\n",
    "```python\n",
    "class Example:\n",
    "    def __init__(self, name):\n",
    "        self.name = name\n",
    "\n",
    "    def greet(self):\n",
    "        return f'Hello, {self.name}!'\n",
    "\n",
    "obj = Example('Satyam')\n",
    "print(obj.greet())\n",
    "```\n",
    "### 2. Defining a Class (Part 1)\n",
    "A class is a blueprint for creating objects. It defines a set of attributes and methods that the objects of the class will have.\n",
    "\n",
    "**Example:**\n",
    "```python\n",
    "class Car:\n",
    "    def __init__(self, brand, model):\n",
    "        self.brand = brand\n",
    "        self.model = model\n",
    "\n",
    "    def details(self):\n",
    "        return f'{self.brand} {self.model}'\n",
    "\n",
    "car1 = Car('Tesla', 'Model S')\n",
    "print(car1.details())\n",
    "```\n",
    "### 3. Defining a Class (Part 2)\n",
    "Classes can include additional methods, default values, and more complex logic.\n",
    "\n",
    "**Example:**\n",
    "```python\n",
    "class Rectangle:\n",
    "    def __init__(self, length=1, width=1):\n",
    "        self.length = length\n",
    "        self.width = width\n",
    "\n",
    "    def area(self):\n",
    "        return self.length * self.width\n",
    "\n",
    "rect = Rectangle(5, 3)\n",
    "print(f'Area: {rect.area()}')\n",
    "```\n",
    "### 4. Constructors and Destructors\n",
    "Constructors initialize an object's attributes when it is created. Destructors clean up resources when the object is deleted.\n",
    "\n",
    "**Example:**\n",
    "```python\n",
    "class Person:\n",
    "    def __init__(self, name):\n",
    "        self.name = name\n",
    "        print(f'{self.name} created.')\n",
    "\n",
    "    def __del__(self):\n",
    "        print(f'{self.name} destroyed.')\n",
    "\n",
    "p = Person('Satyam')\n",
    "del p\n",
    "```\n"
   ]
  },
  {
   "cell_type": "markdown",
   "metadata": {},
   "source": []
  }
 ],
 "metadata": {
  "kernelspec": {
   "display_name": "Python 3",
   "language": "python",
   "name": "python3"
  },
  "language_info": {
   "codemirror_mode": {
    "name": "ipython",
    "version": 3
   },
   "file_extension": ".py",
   "mimetype": "text/x-python",
   "name": "python",
   "nbconvert_exporter": "python",
   "pygments_lexer": "ipython3",
   "version": "3.12.5"
  }
 },
 "nbformat": 4,
 "nbformat_minor": 2
}
