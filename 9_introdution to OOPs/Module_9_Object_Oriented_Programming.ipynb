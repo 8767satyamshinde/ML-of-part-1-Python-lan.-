{
 "cells": [
  {
   "cell_type": "markdown",
   "id": "95cc6151",
   "metadata": {},
   "source": [
    "# Module 8: Object-Oriented Programming"
   ]
  },
  {
   "cell_type": "markdown",
   "id": "330f9fd8",
   "metadata": {},
   "source": [
    "\n",
    "### Topics Covered:\n",
    "1. Introduction to Object-Oriented Programming\n",
    "2. Defining a Class (Part 1)\n",
    "3. Defining a Class (Part 2)\n",
    "4. Constructors and Destructors\n",
    "5. Functions vs Object-Oriented Programming\n",
    "6. Inheritance\n",
    "7. Single-Level Inheritance\n",
    "8. Multi-Level Inheritance\n",
    "9. Multiple Inheritance\n",
    "10. Operator Overloading\n",
    "11. Data Hiding\n"
   ]
  },
  {
   "cell_type": "markdown",
   "id": "d3128ca4",
   "metadata": {},
   "source": [
    "### 1. Introduction to Object-Oriented Programming"
   ]
  },
  {
   "cell_type": "code",
   "execution_count": null,
   "id": "89ea5d5a",
   "metadata": {},
   "outputs": [],
   "source": [
    "Object-Oriented Programming (OOP) is a programming paradigm that organizes and models data as objects, which have attributes (properties) and methods (functions). The key concepts include encapsulation, inheritance, polymorphism, and abstraction.\n",
    "\n",
    "**Example:**\n",
    "```python\n",
    "class Example:\n",
    "    def __init__(self, name):\n",
    "        self.name = name\n",
    "\n",
    "    def greet(self):\n",
    "        return f'Hello, {self.name}!'\n",
    "\n",
    "obj = Example('Satyam')\n",
    "print(obj.greet())\n",
    "```"
   ]
  },
  {
   "cell_type": "markdown",
   "id": "7e87d348",
   "metadata": {},
   "source": [
    "### 2. Defining a Class (Part 1)"
   ]
  },
  {
   "cell_type": "code",
   "execution_count": null,
   "id": "3b690480",
   "metadata": {},
   "outputs": [],
   "source": [
    "A class is a blueprint for creating objects. It defines a set of attributes and methods that the objects of the class will have.\n",
    "\n",
    "**Example:**\n",
    "```python\n",
    "class Car:\n",
    "    def __init__(self, brand, model):\n",
    "        self.brand = brand\n",
    "        self.model = model\n",
    "\n",
    "    def details(self):\n",
    "        return f'{self.brand} {self.model}'\n",
    "\n",
    "car1 = Car('Tesla', 'Model S')\n",
    "print(car1.details())\n",
    "```"
   ]
  },
  {
   "cell_type": "markdown",
   "id": "ac3520fc",
   "metadata": {},
   "source": [
    "### 3. Defining a Class (Part 2)"
   ]
  },
  {
   "cell_type": "code",
   "execution_count": null,
   "id": "f1b35e6a",
   "metadata": {},
   "outputs": [],
   "source": [
    "Classes can include additional methods, default values, and more complex logic.\n",
    "\n",
    "**Example:**\n",
    "```python\n",
    "class Rectangle:\n",
    "    def __init__(self, length=1, width=1):\n",
    "        self.length = length\n",
    "        self.width = width\n",
    "\n",
    "    def area(self):\n",
    "        return self.length * self.width\n",
    "\n",
    "rect = Rectangle(5, 3)\n",
    "print(f'Area: {rect.area()}')\n",
    "```"
   ]
  },
  {
   "cell_type": "markdown",
   "id": "d104e04f",
   "metadata": {},
   "source": [
    "### 4. Constructors and Destructors"
   ]
  },
  {
   "cell_type": "code",
   "execution_count": null,
   "id": "ca9069e0",
   "metadata": {},
   "outputs": [],
   "source": [
    "Constructors initialize an object's attributes when it is created. Destructors clean up resources when the object is deleted.\n",
    "\n",
    "**Example:**\n",
    "```python\n",
    "class Person:\n",
    "    def __init__(self, name):\n",
    "        self.name = name\n",
    "        print(f'{self.name} created.')\n",
    "\n",
    "    def __del__(self):\n",
    "        print(f'{self.name} destroyed.')\n",
    "\n",
    "p = Person('Satyam')\n",
    "del p\n",
    "```"
   ]
  }
 ],
 "metadata": {
  "language_info": {
   "name": "python"
  }
 },
 "nbformat": 4,
 "nbformat_minor": 5
}
