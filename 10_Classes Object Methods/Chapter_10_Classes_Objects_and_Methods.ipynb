{
 "cells": [
  {
   "cell_type": "markdown",
   "id": "f6137172",
   "metadata": {},
   "source": [
    "# Chapter 10: Classes, Objects, and Methods"
   ]
  },
  {
   "cell_type": "markdown",
   "id": "d77e975f",
   "metadata": {},
   "source": [
    "\n",
    "### Topics Covered:\n",
    "1. Creating a Class\n",
    "2. The `self` Variable\n",
    "3. Constructors\n",
    "4. Types of Variables\n",
    "5. Types of Methods\n",
    "   - Instance Method\n",
    "   - Class Method\n",
    "   - Static Method\n",
    "6. Points to Remember\n"
   ]
  },
  {
   "cell_type": "markdown",
   "id": "fbbfb72c",
   "metadata": {},
   "source": [
    "### 1. Creating a Class"
   ]
  },
  {
   "cell_type": "code",
   "execution_count": 3,
   "id": "7a03c55a",
   "metadata": {},
   "outputs": [
    {
     "name": "stdout",
     "output_type": "stream",
     "text": [
      "Student Name: Satyam, Age: 22\n"
     ]
    }
   ],
   "source": [
    "# A class is a user-defined blueprint or prototype that defines a set of attributes and methods.\n",
    "\n",
    "# Example:\n",
    "\n",
    "class Student:\n",
    "    def __init__(self, name, age):\n",
    "        self.name = name\n",
    "        self.age = age\n",
    "\n",
    "    def display(self):\n",
    "        return f'Student Name: {self.name}, Age: {self.age}'\n",
    "\n",
    "student1 = Student('Satyam', 22)\n",
    "print(student1.display())\n"
   ]
  },
  {
   "cell_type": "markdown",
   "id": "584fd5bc",
   "metadata": {},
   "source": [
    "### 2. The `self` Variable"
   ]
  },
  {
   "cell_type": "code",
   "execution_count": 4,
   "id": "0cb22d35",
   "metadata": {},
   "outputs": [
    {
     "name": "stdout",
     "output_type": "stream",
     "text": [
      "42\n"
     ]
    }
   ],
   "source": [
    "# The `self` variable represents the instance of the class. It is used to access attributes and methods of the class.\n",
    "\n",
    "# Example:**\n",
    "# ```python\n",
    "class Example:\n",
    "    def set_value(self, value):\n",
    "        self.value = value\n",
    "\n",
    "    def get_value(self):\n",
    "        return self.value\n",
    "\n",
    "obj = Example()\n",
    "obj.set_value(42)\n",
    "print(obj.get_value())\n",
    "# ```"
   ]
  },
  {
   "cell_type": "markdown",
   "id": "b4153348",
   "metadata": {},
   "source": [
    "### 3. Constructors"
   ]
  },
  {
   "cell_type": "code",
   "execution_count": null,
   "id": "4dd0593e",
   "metadata": {},
   "outputs": [],
   "source": [
    "Constructors are special methods that initialize attributes of the class when an object is created.\n",
    "\n",
    "**Example:**\n",
    "```python\n",
    "class Book:\n",
    "    def __init__(self, title, author):\n",
    "        self.title = title\n",
    "        self.author = author\n",
    "\n",
    "    def details(self):\n",
    "        return f'Title: {self.title}, Author: {self.author}'\n",
    "\n",
    "book1 = Book('Python Basics', 'John Doe')\n",
    "print(book1.details())\n",
    "```"
   ]
  },
  {
   "cell_type": "markdown",
   "id": "b362645f",
   "metadata": {},
   "source": [
    "### 4. Types of Variables"
   ]
  },
  {
   "cell_type": "code",
   "execution_count": null,
   "id": "5472a978",
   "metadata": {},
   "outputs": [],
   "source": [
    "There are two types of variables in Python classes:\n",
    "- Instance Variables: Unique to each object.\n",
    "- Class Variables: Shared among all objects of the class.\n",
    "\n",
    "**Example:**\n",
    "```python\n",
    "class Example:\n",
    "    class_variable = 'Shared'\n",
    "\n",
    "    def __init__(self, value):\n",
    "        self.instance_variable = value\n",
    "\n",
    "obj1 = Example('Unique1')\n",
    "obj2 = Example('Unique2')\n",
    "print(obj1.instance_variable)\n",
    "print(obj2.instance_variable)\n",
    "print(Example.class_variable)\n",
    "```"
   ]
  },
  {
   "cell_type": "markdown",
   "id": "046e0842",
   "metadata": {},
   "source": [
    "### 5. Types of Methods"
   ]
  },
  {
   "cell_type": "code",
   "execution_count": 1,
   "id": "e9b742e5",
   "metadata": {},
   "outputs": [
    {
     "ename": "SyntaxError",
     "evalue": "invalid syntax (1003752002.py, line 1)",
     "output_type": "error",
     "traceback": [
      "\u001b[1;36m  Cell \u001b[1;32mIn[1], line 1\u001b[1;36m\u001b[0m\n\u001b[1;33m    Python classes have three types of methods:\u001b[0m\n\u001b[1;37m           ^\u001b[0m\n\u001b[1;31mSyntaxError\u001b[0m\u001b[1;31m:\u001b[0m invalid syntax\n"
     ]
    }
   ],
   "source": [
    "Python classes have three types of methods:\n",
    "1. **Instance Methods**: Operate on instance variables of the object.\n",
    "2. **Class Methods**: Operate on the class itself. Use `@classmethod` decorator.\n",
    "3. **Static Methods**: Do not access instance or class variables. Use `@staticmethod` decorator.\n",
    "\n",
    "**Examples:**\n",
    "\n",
    "**Instance Method:**\n",
    "```python\n",
    "class Example:\n",
    "    def instance_method(self):\n",
    "        return 'Instance method called'\n",
    "\n",
    "obj = Example()\n",
    "print(obj.instance_method())\n",
    "```\n",
    "\n",
    "**Class Method:**\n",
    "```python\n",
    "class Example:\n",
    "    @classmethod\n",
    "    def class_method(cls):\n",
    "        return 'Class method called'\n",
    "\n",
    "print(Example.class_method())\n",
    "```\n",
    "\n",
    "**Static Method:**\n",
    "```python\n",
    "class Example:\n",
    "    @staticmethod\n",
    "    def static_method():\n",
    "        return 'Static method called'\n",
    "\n",
    "print(Example.static_method())\n",
    "```"
   ]
  },
  {
   "cell_type": "markdown",
   "id": "b90e52f9",
   "metadata": {},
   "source": [
    "### 6. Points to Remember"
   ]
  },
  {
   "cell_type": "code",
   "execution_count": null,
   "id": "29d2fe03",
   "metadata": {},
   "outputs": [],
   "source": [
    "- Use `self` to refer to instance variables.\n",
    "- Use `@classmethod` for methods that operate on the class.\n",
    "- Use `@staticmethod` for utility methods that do not access the class or instance variables.\n",
    "- Instance variables are unique to each object, while class variables are shared.\n",
    "- Constructors initialize the object's attributes.\n",
    "- Use clear and descriptive names for variables and methods.\n"
   ]
  }
 ],
 "metadata": {
  "kernelspec": {
   "display_name": "Python 3",
   "language": "python",
   "name": "python3"
  },
  "language_info": {
   "codemirror_mode": {
    "name": "ipython",
    "version": 3
   },
   "file_extension": ".py",
   "mimetype": "text/x-python",
   "name": "python",
   "nbconvert_exporter": "python",
   "pygments_lexer": "ipython3",
   "version": "3.12.5"
  }
 },
 "nbformat": 4,
 "nbformat_minor": 5
}
